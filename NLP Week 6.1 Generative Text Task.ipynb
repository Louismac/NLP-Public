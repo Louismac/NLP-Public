{
 "cells": [
  {
   "cell_type": "markdown",
   "metadata": {},
   "source": [
    "# Week 6.1 Generative Text\n",
    "\n",
    "## Task 1 \n",
    "### Go through the Tracery tutorial below \n",
    "\n",
    "\n",
    "- [Kate Compton's Tracery Tutorial](http://www.crystalcodepalace.com/traceryTut.html)\n",
    "\n",
    "\n",
    "Its in Javascript and we will be using a Python port, but the grammars are pretty much identical. Make sure you understand \n",
    "\n",
    " - Replacement strings\n",
    " - Multiple replacements in one template\n",
    " - Modifiers (plurals, capitalisation etc..)\n",
    " - Saving data / Adding properties to concepts\n",
    " "
   ]
  },
  {
   "cell_type": "markdown",
   "metadata": {},
   "source": [
    "## Task 2\n",
    "### Tracery in Python\n",
    "\n",
    "- [Allison Parrish's Tracery Python Port](https://github.com/aparrish/pytracery)\n"
   ]
  },
  {
   "cell_type": "code",
   "execution_count": null,
   "metadata": {
    "scrolled": true
   },
   "outputs": [],
   "source": [
    "#Install the libraries\n",
    "!pip install tracery\n",
    "!pip install ipyplot"
   ]
  },
  {
   "cell_type": "code",
   "execution_count": null,
   "metadata": {},
   "outputs": [],
   "source": [
    "#Import some libraries\n",
    "import ipyplot\n",
    "import IPython.display as ipd\n",
    "import time\n",
    "import threading\n",
    "import numpy as np\n",
    "import os\n",
    "import tracery\n",
    "from tracery.modifiers import base_english\n",
    "!git clone https://github.com/Louismac/NLP-Public\n",
    "%cd NLP-Public"
   ]
  },
  {
   "cell_type": "markdown",
   "metadata": {},
   "source": [
    "### An Example"
   ]
  },
  {
   "cell_type": "code",
   "execution_count": null,
   "metadata": {},
   "outputs": [],
   "source": [
    "#It looks just like Javascript!\n",
    "rules = {\n",
    "    #Root of story\n",
    "    'origin': '#hello.capitalize#, I\\'ve been #location.ed#!. Right in the #bodypart#',\n",
    "    'bodypart':[\"knees\", \"ankles\",\"bread basket\"],\n",
    "    'hello': ['hello', 'greetings', 'howdy', 'hey'],\n",
    "    'location': ['world', 'solar system', 'galaxy', 'universe']\n",
    "}\n",
    "\n",
    "grammar = tracery.Grammar(rules)\n",
    "grammar.add_modifiers(base_english)\n",
    "print(grammar.flatten(\"#origin#\"))"
   ]
  },
  {
   "cell_type": "markdown",
   "metadata": {},
   "source": [
    "### Making a Scene\n",
    "\n",
    "I'm really enamoured with these [Slow Dancing Robots](https://squinky.me/category/games/) and their dialogue is actually written in Tracery. \n",
    "\n",
    "In this spirit, the task is to use Tracery rules, along with GIFs and some background music to make a scene / diorama / conversation between two agents. \n",
    "\n",
    "I have provided some basic code to get you set up.\n",
    "\n",
    "You can change the GIF, the music and the Tracery rules to create you're own conversations. \n",
    "\n",
    "Things you might try:\n",
    "- Different characters (e.g. pirates, not robots) might use different language and language patterns, and different conversation topics! Maybe they recite poetry, or recipes to each other. \n",
    "- Different scenario (not a disco!)\n",
    "- This set up only has two types of saying to pick from, so you can start adding in more different dynamics if you want, depending on your idea. Perhaps try changing things overtime, adding a longer term narrative etc...\n",
    "\n",
    "### The Rules\n",
    "\n",
    "Take a look at the code below (borrowed from the [GitHub](https://github.com/squinky/robotslowdance/blob/master/grammar.js)). Here you see some of the rules used in the original, I've simplified it ___loads___ but you can check out the source code on the GitHub for more inspiration!\n",
    "\n",
    "There are two ***types*** of utterance ```moveInSync``` and ```justDancing```. They each have some templates that use other templates to swap in and out. "
   ]
  },
  {
   "cell_type": "code",
   "execution_count": null,
   "metadata": {},
   "outputs": [],
   "source": [
    "rules = {\n",
    "#High level action 1\n",
    "\"moveInSync\":\n",
    "\t[\n",
    "\t\t\"Wow, you're #very# #good# at this!\",\n",
    "\t\t\"I #love# your #bodyPart#\",\n",
    "        \"I #love# the way you #move# that #bodyPart#.\",\n",
    "\t\t\"Your #bodyPart# is #very# #good#.\",\n",
    "\t\t\"I could spend many processor cycles discussing #conversationTopic# with you.\",\n",
    "\t\t\"I would love to continue talking about #conversationTopic# somewhere quieter.\"\n",
    "\t],\n",
    "#High level action 2\n",
    "\"justDancing\":\n",
    "\t[\n",
    "        \"I think I #need# a nap.\",\n",
    "\t\t\"I #love# this #party#!\",\n",
    "\t\t\"I have no idea what I'm doing right now.\",\n",
    "\t\t\"So, uh, do you like, umm, stuff?\",\n",
    "\t\t\"Nice #bodyPart#, #friend#.\",\n",
    "\t\t\"What did you say? I can't hear you!\",\n",
    "\t\t\"It's #very# #loud# in here, don't you think?\"\n",
    "\t],\n",
    "#Template variables \n",
    "\t\"conversationTopic\":\n",
    "\t[\n",
    "\t\t\"algorithms\",\n",
    "\t\t\"artificial intelligence\",\n",
    "\t\t\"assembly languages\",\n",
    "\t\t\"binary trees\",\n",
    "\t\t\"compilers\"\n",
    "\t\t\"privacy\",\n",
    "\t\t\"quantum computing\",\n",
    "\t\t\"radical robot politics\",\n",
    "\t\t\"resisting the humans\",\n",
    "\t\t\"wetware\"\n",
    "\t],\n",
    "    \"love\":[\"love\",\"like\",\"appreciate\",\"enjoy\",\"have positive feelings towards\",\n",
    "            \"approve of\",\"have affinity for\"],\n",
    "\t\"better\":[\"better\",\"more competently\",\"more efficiently\",\"more precisely\"],\n",
    "\t\"need\":[\"need\",\"want\",\"require\",\"desire\",\"could use\",\"could utilize\"],\n",
    "\t\"good\" : \"amazing competent efficient good great impressive operational precise superlative\".split(\" \"),\n",
    "\t\"very\" : \"extremely highly impressively incredibly quite really superlatively very\".split(\" \"),\n",
    "\t\"move\" : \"drive jiggle move pan power rotate shake tilt twist utilize vibrate\".split(\" \"),\n",
    "    \"friend\" : \"buddy comrade duder friend pal\".split(\" \"),\n",
    "\t\"party\" : \"event gathering meetup party ritual shindig social thing\".split(\" \"),\n",
    "\t\"loud\" : \"loud noisy\".split(\" \"),\n",
    "\t\"bodyPart\" : \"assembly chassis hinge microcontroller microprocessor motherboard piston processor rotor sensor servo sprocket\".split(\" \")\n",
    "}"
   ]
  },
  {
   "cell_type": "markdown",
   "metadata": {},
   "source": [
    "### The Code\n",
    "\n",
    "1. Once you have an idea of the scene you'd like to make you can first get you're characters and settings. Find some images on your computer or online.\n",
    "\n",
    "    - `character_one_gif` -> File path to the GIF for the first character\n",
    "    - `character_two_gif` -> File path to the GIF for the second character\n",
    "    \n",
    "    \n",
    "2. `background_music` -> File path to the music file. If you don't music files on your computer, there are places to find royalty free music online e.g. [Blue Dot Sesssions](https://www.sessions.blue/) or [Free Music Archive](https://freemusicarchive.org/curator/Creative_Commons) or [Epidemic Sounds](https://www.epidemicsound.com/students/)\n",
    "\n",
    "\n",
    "3. You can edit the `rules` dictionary in the above cell to change the phrases that are generated by Tracery. You'll have to reexecute the cell, as well as the code below to update.\n",
    "\n",
    "    If you want to change the back and forth / gameplay dynamic, this happens in the ```generate_text()``` function. It generates some text and then delays for some time before the next turn. If you want to have rules that change over time, you can use the ```ctr``` variable. It goes up by 1 every iteration. You can run the cell underneath everytime to generate new text.\n",
    "    \n",
    "    If you want some inspiration, check out the Robot Slow Dance [Source Code](https://github.com/squinky/robotslowdance/blob/master/grammar.js) or the [Tracery](https://tracery.io/) site for more examples.\n"
   ]
  },
  {
   "cell_type": "code",
   "execution_count": null,
   "metadata": {
    "scrolled": false
   },
   "outputs": [],
   "source": [
    "grammar = tracery.Grammar(rules)\n",
    "grammar.add_modifiers(base_english)\n",
    "\n",
    "#Edit the images and music\n",
    "character_one_gif = \"images/robot1.gif\"\n",
    "character_two_gif = \"images/robot2.gif\"\n",
    "background_music = \"audio/bgm.mp3\"\n",
    "\n",
    "#Edit the generated text\n",
    "def generate_text(ctr):\n",
    "   #Do some Tracery stuff!\n",
    "    text = \"\"\n",
    "    if ctr % 2 == 0:\n",
    "        text = grammar.flatten(\"#justDancing#\")  \n",
    "    else:\n",
    "        text = grammar.flatten(\"#moveInSync#\")\n",
    "    print(str(ctr) + \":\" +  text)\n",
    "\n",
    "\n",
    "char_one=plt.imread(character_one_gif)\n",
    "char_two=plt.imread(character_two_gif)\n",
    "fig, ax = plt.subplots(nrows=1, ncols =2)\n",
    "ax[0].imshow(char_one)\n",
    "ax[1].imshow(char_two)\n",
    "ctr = 0\n",
    "ipd.Audio(background_music, autoplay=True)"
   ]
  },
  {
   "cell_type": "code",
   "execution_count": null,
   "metadata": {
    "scrolled": true
   },
   "outputs": [],
   "source": [
    "#Run this cell everytime you want new text\n",
    "ctr = ctr+ 1\n",
    "generate_text(ctr)"
   ]
  },
  {
   "cell_type": "markdown",
   "metadata": {},
   "source": [
    "## Task 3\n",
    "\n",
    "If you'd like a bit more of an explanation of Markov Models, check out this [intereractive demo](https://setosa.io/ev/markov-chains/) by Setosa. \n",
    "\n",
    "Next, look at [Hay Kranen's Online Markov Text Generator](http://projects.haykranen.nl/markov/demo/). \n",
    "\n",
    "This works on a **character level**. \n",
    "\n",
    "You can copy and paste some text, perhaps some of the tweets you have scraped, or some articles from a newspaper or wikipedia. \n",
    "\n",
    "Investigate:\n",
    "- What do different input texts generate?\n",
    "- How does the size of the dataset you give it effect the generated text?\n",
    "- How does the ***order*** of the model change the text thats generated?\n",
    "\n",
    "**BONUS** for those feeling brave, you could try and work with your own Markov models in Python using [Markovify](https://github.com/jsvine/markovify) library."
   ]
  },
  {
   "cell_type": "code",
   "execution_count": null,
   "metadata": {},
   "outputs": [],
   "source": []
  }
 ],
 "metadata": {
  "kernelspec": {
   "display_name": "Python 3",
   "language": "python",
   "name": "python3"
  },
  "language_info": {
   "codemirror_mode": {
    "name": "ipython",
    "version": 3
   },
   "file_extension": ".py",
   "mimetype": "text/x-python",
   "name": "python",
   "nbconvert_exporter": "python",
   "pygments_lexer": "ipython3",
   "version": "3.8.5"
  }
 },
 "nbformat": 4,
 "nbformat_minor": 4
}
