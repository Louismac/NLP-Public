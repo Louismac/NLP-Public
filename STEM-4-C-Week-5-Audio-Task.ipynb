{
 "cells": [
  {
   "cell_type": "code",
   "execution_count": null,
   "metadata": {},
   "outputs": [],
   "source": [
    "#Import and define function\n",
    "import librosa\n",
    "import librosa.display\n",
    "import numpy as np\n",
    "import matplotlib.pyplot as plt\n",
    "import IPython.display as ipd\n",
    "!git clone https://github.com/Louismac/NLP-Public\n",
    "%cd NLP-Public\n",
    "\n",
    "def show_audio(y, sr=44100, normalise=True):\n",
    "    fig, ax = plt.subplots(figsize=(16,4))\n",
    "    ax.set_ylim(-1,1)\n",
    "    librosa.display.waveplot(y, sr=sr, ax=ax)\n",
    "    return ipd.Audio(y, rate=sr, autoplay=True)"
   ]
  },
  {
   "cell_type": "markdown",
   "metadata": {},
   "source": [
    "# Audio Task \n",
    "\n",
    "### Task 1\n",
    "\n",
    "Have a go at loading in a chopping up the drum tracks. You can also try your own material (see links for free samples below)!\n",
    "\n",
    "- Take one of the drum breaks from the demos and see if you can play around with. Can you \n",
    "    - Take part of it and put it somewhere else in the file?\n",
    "    - Take take of it, alter it (change speed with `librosa.resample`, volume, reverse with `np.flip`), and put it somewhere else in the file\n",
    "- Can you chain some of these actions together to chop up the drum beat?\n",
    "- Can you start including audio from different samples? Remember, one of the reasons the Jungle algorithm works in the lectures work is because they're all the same tempo and length. \n",
    "    - Check out [FreeSound](https://freesound.org/) for some free samples or these [BBC 1xtra](https://www.bbc.co.uk/1xtra/1xmusic/sample/) samples, or some audio samples from an [2014 MIR workshop](https://ccrma.stanford.edu/workshops/mir2014/audio/)\n",
    "    "
   ]
  },
  {
   "cell_type": "code",
   "execution_count": null,
   "metadata": {},
   "outputs": [],
   "source": [
    "#Load in your own audio files (or use some of our drums loops (check the audio/ folder))\n",
    "y, sr = librosa.load('audio/soul_piano.wav')\n",
    "show_audio(y, sr)"
   ]
  },
  {
   "cell_type": "code",
   "execution_count": null,
   "metadata": {},
   "outputs": [],
   "source": [
    "### Edit and chop up here!"
   ]
  },
  {
   "cell_type": "markdown",
   "metadata": {},
   "source": [
    "\n",
    "### Task 2\n",
    "Have a play with Louis' Jungle Algorithm. It should be different every time you run it. \n",
    "- Try some different `chop` values (1/2, 1/4, 1/16, 1/32), how does that effect the music?\n",
    "- Every time you see `if np.random.rand() > [NUMBER]:`, there is a probability effecting an outcome, try some different numbers between 0 and 1 and see what happens \n",
    "- Towards the bottom there is a line which adds in some vocals\n",
    "   ```sig[chan,start:end] = sig[chan][start:end] + vox```\n",
    "    -  Can you change it so that it overwrites instead of mixes with the drum backing track?\n",
    "    -  Can you add in some more samples (doesn't have to be vocals)\n",
    "- Can you add some more code at the end so that the guitar plays throughout the whole track?\n",
    "- **BONUS** You can try swapping out the drum samples. This will work for any array of samples you load in as long they are the same length (and ideally at the tempo)."
   ]
  },
  {
   "cell_type": "code",
   "execution_count": null,
   "metadata": {},
   "outputs": [],
   "source": [
    "#Load in 8 drum breaks\n",
    "multi_drums = np.array([librosa.load('audio/drums' + str(i) +'.wav')[0] for i in range(8)])\n",
    "print(multi_drums.shape)\n",
    "#Load in 2 drum vocal samples\n",
    "vocals = np.array([librosa.load('audio/vocal' + str(i) +'.wav')[0] for i in range(2)])\n",
    "guitar, sr = librosa.load('audio/guitar.wav')"
   ]
  },
  {
   "cell_type": "code",
   "execution_count": null,
   "metadata": {},
   "outputs": [],
   "source": [
    "bar = len(multi_drums[0])/2\n",
    "beat = int(bar / 4)\n",
    "sq = int(beat / 4)\n",
    "track_length = int(bar * 8)\n",
    "#Start with 2 channels of silence (0's)\n",
    "sig = np.array([np.zeros(track_length), np.zeros(track_length)])\n",
    "\n",
    "####CHANGING CHOP LENGTH########\n",
    "#Length of each chop (smaller number is more frequent chops)\n",
    "chop = 1/8\n",
    "chop_size = int(len(multi_drums[0]) * chop)\n",
    "n = int(track_length/chop_size)\n",
    "print(\"making track with \" + str(n) + \" sections\")\n",
    "#Pick a random drum break and location\n",
    "drum_index = np.random.randint(len(multi_drums))\n",
    "chop_at = np.random.randint(1/chop)*chop_size\n",
    "##Chop together drum tracks\n",
    "for i in range(n):\n",
    "    \n",
    "    #65% chance of picking new drums\n",
    "    if np.random.rand() > 0.35:\n",
    "        #Pick a random drum break and location\n",
    "        drum_index = np.random.randint(len(multi_drums))\n",
    "        chop_at = np.random.randint(1/chop)*chop_size\n",
    "        \n",
    "    #Get a section of that drum break\n",
    "    new_drums = multi_drums[drum_index, chop_at:chop_at+chop_size]\n",
    "    \n",
    "    #10% chance of reversing\n",
    "    if np.random.rand() > 0.9:\n",
    "        print(\"reversing\")\n",
    "        new_drums = np.flip(new_drums)\n",
    "        \n",
    "    #10% chance of speeding up\n",
    "    if np.random.rand() > 0.9:\n",
    "        #twice the pitch, half the length\n",
    "        print(\"speed up!\")\n",
    "        new_drums = librosa.resample(new_drums, sr, sr/2)\n",
    "        \n",
    "    #10% chance of slowing down up\n",
    "    if np.random.rand() > 0.9:\n",
    "        #half the pitch, twice the length\n",
    "        print(\"sloooow\")\n",
    "        new_drums = librosa.resample(new_drums, sr, sr*2)\n",
    "        new_drums = new_drums[0:chop_size]\n",
    "        \n",
    "    #Pick channel\n",
    "    chan = np.random.randint(2)\n",
    "    #Overwrite with new drums\n",
    "    start = i*chop_size\n",
    "    end = start + len(new_drums)\n",
    "    print(\"left\" if chan == 0 else \"right\")\n",
    "    print(\"adding \" + str(len(new_drums)) + \" samples from \" + str(start) + \" to \" + str(end))\n",
    "    sig[chan,start:end] = new_drums\n",
    "\n",
    "##Add vocals    \n",
    "for i in range(n):\n",
    "    #10% chance of adding in vocal sample\n",
    "    if np.random.rand() > 0.9:\n",
    "        #Pick a sample\n",
    "        vox = vocals[np.random.randint(len(vocals))]\n",
    "        start = i*chop_size\n",
    "        end = start+len(vox)\n",
    "        #Make sure we dont go off the end\n",
    "        if end < len(sig[0]):\n",
    "            #Pick channel\n",
    "            chan = np.random.randint(2)\n",
    "            #Adding (not overwrite)\n",
    "            sig[chan,start:end] = sig[chan][start:end] + vox\n",
    "\n",
    "#Add the guitar at the end (not overwrite)\n",
    "#Slice the audio from the end back to the length of the guitar, then add guitar audio and put back\n",
    "#We add to both channels using the : and broadcasting (more on that next week)\n",
    "sig[:,-len(guitar):] = sig[:,-len(guitar):] + guitar    \n",
    "show_audio(sig, sr)"
   ]
  },
  {
   "cell_type": "markdown",
   "metadata": {},
   "source": [
    "## Analysing music \n",
    "\n",
    "### Task 3\n",
    "\n",
    "Try some of your own music in the beat tracker. What genres does it work for? What genres does it struggle with? Place your answers in the forum\n",
    "\n",
    "If you don't music files on your computer, there are places to find royalty free music online e.g. [Blue Dot Sesssions](https://www.sessions.blue/) or [Free Music Archive](https://freemusicarchive.org/curator/Creative_Commons)\n",
    "\n",
    "You can also try [Epidemic Sounds](https://player.epidemicsound.com/students/) as a student and get free music as long as you're not publishing it anywhere.\n"
   ]
  },
  {
   "cell_type": "code",
   "execution_count": null,
   "metadata": {},
   "outputs": [],
   "source": [
    "### Add in your own audio files \n",
    "y, sr = librosa.load('audio/drums2.wav')\n",
    "tempo, beats = librosa.beat.beat_track(y=y, sr=sr)\n",
    "y_beats = librosa.clicks(frames=beats, sr=sr, length = len(y))\n",
    "show_audio(y + y_beats, sr)"
   ]
  },
  {
   "cell_type": "markdown",
   "metadata": {},
   "source": [
    "\n",
    "### Task 4\n",
    "\n",
    "Think about this for the discussion at the end, what are some qualities of sound or music that you think machines would have trouble analysing? Place your answers in the forum"
   ]
  },
  {
   "cell_type": "code",
   "execution_count": null,
   "metadata": {},
   "outputs": [],
   "source": []
  }
 ],
 "metadata": {
  "kernelspec": {
   "display_name": "Python 3",
   "language": "python",
   "name": "python3"
  },
  "language_info": {
   "codemirror_mode": {
    "name": "ipython",
    "version": 3
   },
   "file_extension": ".py",
   "mimetype": "text/x-python",
   "name": "python",
   "nbconvert_exporter": "python",
   "pygments_lexer": "ipython3",
   "version": "3.8.5"
  }
 },
 "nbformat": 4,
 "nbformat_minor": 4
}
