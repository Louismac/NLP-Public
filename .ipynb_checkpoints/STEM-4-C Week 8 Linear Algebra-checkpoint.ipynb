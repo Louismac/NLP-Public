{
 "cells": [
  {
   "cell_type": "code",
   "execution_count": null,
   "metadata": {},
   "outputs": [],
   "source": [
    "import sys\n",
    "import numpy\n",
    "import numpy as np \n",
    "from PIL import Image\n",
    "import ipyplot\n",
    "import matplotlib.pyplot as plt\n",
    "from scipy import interpolate\n",
    "from scipy.interpolate import griddata\n",
    "np.set_printoptions(suppress=True)\n",
    "numpy.set_printoptions(threshold=sys.maxsize)\n",
    "!git clone https://github.com/Louismac/NLP-Public\n",
    "%cd NLP-Public"
   ]
  },
  {
   "cell_type": "markdown",
   "metadata": {},
   "source": [
    "# Week 8 Linear Algebra\n",
    "\n",
    "### Task 1 - Vector Arithmetic \n",
    "\n",
    "First lets remind ourselves of adding and multiplying vectors together. \n",
    "\n",
    "#### 1.1 \n",
    "Have a try putting in different numbers and seeing what you get back. When working in **2D** can you visually link these back to combining and scaling vectors\n",
    "\n",
    "The variable `a` contains the first vector and the variable `b` contains the second vector"
   ]
  },
  {
   "cell_type": "code",
   "execution_count": null,
   "metadata": {
    "scrolled": false
   },
   "outputs": [],
   "source": [
    "#Adding together two 2D vectors\n",
    "a = np.array([-4,4])\n",
    "b = np.array([10,-5])\n",
    "c = a + b\n",
    "print(\"The combination of the two vectors is \" + str(c))\n",
    "fig,ax = plt.subplots()\n",
    "#vector a (red) + vector b (blue) = vector c (green)\n",
    "plt.plot([0,a[0]],[0,a[1]],\"r-\")\n",
    "plt.plot([a[0],a[0]+b[0]],[a[1],a[1]+b[1]],\"b-\")\n",
    "plt.plot([0,c[0]],[0,c[1]],\"g-\")\n",
    "plt.grid()"
   ]
  },
  {
   "cell_type": "markdown",
   "metadata": {},
   "source": [
    "#### 1.2\n",
    "Now try see how vector addition works in more than 2D dimensions"
   ]
  },
  {
   "cell_type": "code",
   "execution_count": null,
   "metadata": {},
   "outputs": [],
   "source": [
    "#It works in more dimensions!\n",
    "a = np.array([1,2,3,4])\n",
    "b = np.array([5,6,7,8])\n",
    "a + b"
   ]
  },
  {
   "cell_type": "markdown",
   "metadata": {},
   "source": [
    "#### 1.3\n",
    "Try playing around with different vectors (`a`) and different scalars (`b`)"
   ]
  },
  {
   "cell_type": "code",
   "execution_count": null,
   "metadata": {},
   "outputs": [],
   "source": [
    "#Multiplying together a 2D vector and a scalar (single number)\n",
    "a = np.array([1,2])\n",
    "b = 3\n",
    "c = a * b\n",
    "print(\"The vector scaled by the number is \" + str(c))\n",
    "fig,ax = plt.subplots()\n",
    "#vector a (red) scaled by b = vector c (blue)\n",
    "plt.plot([0,c[0]],[0,c[1]],\"b-\")\n",
    "plt.plot([0,a[0]],[0,a[1]],\"r-\")\n",
    "plt.grid()"
   ]
  },
  {
   "cell_type": "markdown",
   "metadata": {},
   "source": [
    "#### 1.4\n",
    "Try multiplying different vectors (`a` and `b`) together. They **must be the same length**"
   ]
  },
  {
   "cell_type": "code",
   "execution_count": null,
   "metadata": {},
   "outputs": [],
   "source": [
    "#Multiplying together two vectors (it works in more dimensions!)\n",
    "a = np.array([1,2,3,4])\n",
    "b = np.array([5,6,7,8])\n",
    "a * b"
   ]
  },
  {
   "cell_type": "markdown",
   "metadata": {},
   "source": [
    "### Task 2 - Linear Transformations of Vectors \n",
    "\n",
    "#### 2.1\n",
    "Have a play around with the code below and see how a 2D matrix that describes the transformation of the **basis vectors** 𝑖̂ and 𝑗̂ can be used to transform any vector using the **dot product**. \n",
    "\n",
    "You can see how the new vectors of  𝑖̂ and 𝑗̂ match the columns of the transformation matrix. \n",
    "\n",
    "Here, the ```@``` sign is used to give the **dot product**.\n",
    "\n",
    "Try different tranformations (a 2x2 array in `transforms`) and different vectors (`x`)"
   ]
  },
  {
   "cell_type": "code",
   "execution_count": null,
   "metadata": {},
   "outputs": [],
   "source": [
    "i_hat = np.array([1,0])\n",
    "j_hat = np.array([0,1])\n",
    "\n",
    "#Your transform here (Try different transforms!)\n",
    "transform = np.array([\n",
    " [-1,1],\n",
    " [0,-2]   \n",
    "])\n",
    "#New point to transform (Try different points!)\n",
    "x = np.array([2,-1])\n",
    "\n",
    "#Do the transforms (dot product)\n",
    "new_i_hat = i_hat @ transform\n",
    "new_j_hat = j_hat @ transform\n",
    "new_x = x @ transform\n",
    "print(\"i hat transformed is \" + str(new_i_hat))\n",
    "print(\"j hat transformed is \" + str(new_j_hat))\n",
    "print(\"x transformed is \" + str(new_x))"
   ]
  },
  {
   "cell_type": "markdown",
   "metadata": {},
   "source": [
    "#### 2.2\n",
    "You can also plot the transformed vectors. Try different tranformations (a 2x2 array in `transforms`) and different vectors (`x`) above and follow the results in the plot."
   ]
  },
  {
   "cell_type": "code",
   "execution_count": null,
   "metadata": {},
   "outputs": [],
   "source": [
    "#Plot the transform\n",
    "fig,ax = plt.subplots(figsize=(6,6))\n",
    "ax.plot([0,i_hat[0]],[0,i_hat[1]],label='i hat')\n",
    "ax.plot([0,j_hat[0]],[0,j_hat[1]],label='j hat')\n",
    "ax.plot([0,x[0]],[0,x[1]],label='x')\n",
    "ax.plot([0,new_i_hat[0]],[0,new_i_hat[1]],label='new i hat')\n",
    "ax.plot([0,new_j_hat[0]],[0,new_j_hat[1]],label='new j hat')\n",
    "ax.plot([0,new_x[0]],[0,new_x[1]],label='new x')\n",
    "ax.set_aspect('equal')\n",
    "plt.legend()\n",
    "plt.grid()"
   ]
  },
  {
   "cell_type": "markdown",
   "metadata": {},
   "source": [
    "### Task 3 - Transforming Matrices\n",
    "\n",
    "Now we'll see how this works when applying to images (many coordinates!). \n",
    "\n",
    "1. First we get a grid that represents all the coordinates in the original images \n",
    "2. Then we apply the transformation matrix to get the new coordinates \n",
    "3. Then we interpolate to fill in the missing values \n"
   ]
  },
  {
   "cell_type": "code",
   "execution_count": null,
   "metadata": {},
   "outputs": [],
   "source": [
    "def show_conversions(p,new_p,src):\n",
    "    for i in range(len(p[0])):\n",
    "        val = str(src[p[0][i],[p[1][i]]][0])\n",
    "        old_point = str(p[0][i]) + \",\" + str(p[1][i])\n",
    "        new_point = str(new_p[0][i]) + \",\" + str(new_p[1][i])\n",
    "        print(val + \" is moved from \" + old_point + \" to \" + new_point)\n",
    "\n",
    "def linear_transformation(src, transform = [[1,0],[0,1]], ax = [[0,1],[0,1]], mode = \"nearest\", show = False):\n",
    "    h, w = src.shape\n",
    "    #We want a 2 x w*h array of x,y coordinates\n",
    "    x,y = np.mgrid[0:w, 0:h]\n",
    "    points = np.array([x,y]).reshape((2, w*h))\n",
    "    #Tranform the coordinates (matrix multiply)\n",
    "    new_points = (np.array(transform) @ points)\n",
    "    if show:\n",
    "        show_conversions(points, new_points, src)\n",
    "    #Get the target coordinates to interpolate onto\n",
    "    t_y,t_x = np.mgrid[ax[0][0]*h:ax[0][1]*h, ax[1][0]*w:ax[1][1]*w]\n",
    "    #Interpolate from the original data to the new coordinates\n",
    "    new_image = griddata(new_points.T, src.reshape((w*h),order=\"F\"),(t_x,t_y), method=mode)\n",
    "    return new_image\n",
    "\n",
    "def centred_axes():\n",
    "    fig,ax = plt.subplots(figsize = (12,12),ncols = 2)\n",
    "    for a in ax:\n",
    "        a.set_xticks([])\n",
    "        a.set_yticks([])\n",
    "        a.spines['left'].set_position('center')\n",
    "        a.spines['bottom'].set_position('center')\n",
    "    return ax"
   ]
  },
  {
   "cell_type": "markdown",
   "metadata": {},
   "source": [
    "#### 3.1\n",
    "You can try first with a small matrix and watch where the points move. Try different **interpolation methods** (\"nearest\", \"linear\" or \"cubic\") and different **input matrices** (stored in the variable `a`) and watch how the coordinates are transformed and the new values are calulated by the interpolation.\n",
    "\n",
    "\n",
    "Can you explain why you get some `nan` (not a number) outputs in at the edges of the transformed outputs when you use **linear** and **cubic** interpolation? Think about what information they need to estimate each new value."
   ]
  },
  {
   "cell_type": "code",
   "execution_count": null,
   "metadata": {
    "scrolled": false
   },
   "outputs": [],
   "source": [
    "#Input matrix\n",
    "a = np.arange(16).reshape((4,4))\n",
    "#Scale by 2 in the x axis, try changing to new transform if you like!\n",
    "transform = np.array([\n",
    " [2,0],\n",
    " [0,1]   \n",
    "])\n",
    "#What interpolation method? (\"nearest\", \"linear\",\"cubic\")\n",
    "mode = \"nearest\"\n",
    "\n",
    "#Multiplier on the size of the output [[ymin,ymax],[xmin,xmax]]\n",
    "#Useful for transforms that scale to bigger, or translate to negative quadrants\n",
    "axis=[[0,1],[0,2]]\n",
    "#Try different interpolation methods (mode)\n",
    "b = linear_transformation(a,transform,ax=axis,mode=mode,show=True)\n",
    "print(\"all other points are interpolated (estimated)\")\n",
    "print(\"original\")\n",
    "print(a)\n",
    "print(\"transformed\")\n",
    "print(b)"
   ]
  },
  {
   "cell_type": "markdown",
   "metadata": {},
   "source": [
    "#### 3.2\n",
    "\n",
    "Try out some matrix multiplications on the site http://matrixmultiplication.xyz/. \n",
    "\n",
    "1. Take a 2x2 transformation matrix \n",
    "2. And a 2xn matrix representing some x and y coordinates (e.g. [[0,0,0,1,1,1],[0,1,2,0,1,2]])\n",
    "\n",
    "Does the result give you the correct coordinates transformed?\n",
    "\n",
    "#### 3.3\n",
    "\n",
    "Try some bigger matrices (with more than 2 dimensions). Does this give you a feel for how the **dot products** of columns and rows are combined to make the new matrix?"
   ]
  },
  {
   "cell_type": "markdown",
   "metadata": {},
   "source": [
    "### Task 4 - Images\n",
    "\n",
    "Now we see how it works with images.\n",
    "\n",
    "Remember, all we are doing is \n",
    "\n",
    "1. First we get a grid that represents all the coordinates in the original images \n",
    "2. Then we apply the transformation matrix to get the new coordinates \n",
    "3. Then we interpolate to fill in the missing values \n",
    "\n",
    "EASY\n",
    "\n",
    "#### 4.1 \n",
    "Look at the transformation matrices and the resulting changes to the image using the transforms provided. Can you intuitively make the connection between this and the changes to **basis vectors** 𝑖̂ and 𝑗̂?"
   ]
  },
  {
   "cell_type": "code",
   "execution_count": null,
   "metadata": {},
   "outputs": [],
   "source": [
    "#Load in images here, I'd recommend using a small one!\n",
    "im = np.array(Image.open(\"images/smol_cat.jpg\").convert('L'))\n",
    "im = np.flip(im,axis=0)"
   ]
  },
  {
   "cell_type": "code",
   "execution_count": null,
   "metadata": {},
   "outputs": [],
   "source": [
    "#Stretch in x axis\n",
    "t = [[2,0],\n",
    "     [0,1]]\n",
    "#What interpolation method? (\"nearest\", \"linear\",\"cubic\")\n",
    "mode = \"linear\"\n",
    "\n",
    "dst = linear_transformation(im, t, ax = [[-2,2],[-2,2]],mode=mode)\n",
    "orig = linear_transformation(im, ax = [[-2,2],[-2,2]])\n",
    "ax = centred_axes()\n",
    "ax[0].imshow(orig, origin = \"lower\", cmap=\"gray\")\n",
    "ax[1].imshow(dst, origin = \"lower\", cmap=\"gray\")"
   ]
  },
  {
   "cell_type": "code",
   "execution_count": null,
   "metadata": {},
   "outputs": [],
   "source": [
    "#Flip and shear from lecture\n",
    "t = [[2,0],\n",
    "     [1,-1]]\n",
    "#What interpolation method? (\"nearest\", \"linear\",\"cubic\")\n",
    "mode = \"linear\"\n",
    "\n",
    "dst = linear_transformation(im, t, ax = [[-2,2],[-2,2]],mode=mode)\n",
    "orig = linear_transformation(im, ax = [[-2,2],[-2,2]])\n",
    "ax = centred_axes()\n",
    "ax[0].imshow(orig, origin = \"lower\", cmap=\"gray\")\n",
    "ax[1].imshow(dst, origin = \"lower\", cmap=\"gray\")"
   ]
  },
  {
   "cell_type": "code",
   "execution_count": null,
   "metadata": {
    "scrolled": true
   },
   "outputs": [],
   "source": [
    "#Rotation (angle in radians, pi radians = 180 degrees)\n",
    "angle = np.pi/4\n",
    "t = [[np.cos(angle),-np.sin(angle)],\n",
    "     [np.sin(angle),np.cos(angle)]]\n",
    "#What interpolation method? (\"nearest\", \"linear\",\"cubic\")\n",
    "mode = \"linear\"\n",
    "\n",
    "dst = linear_transformation(im, t, ax = [[-2,2],[-2,2]],mode=mode)\n",
    "orig = linear_transformation(im, ax = [[-2,2],[-2,2]])\n",
    "ax = centred_axes()\n",
    "ax[0].imshow(orig, origin = \"lower\", cmap=\"gray\")\n",
    "ax[1].imshow(dst, origin = \"lower\", cmap=\"gray\")"
   ]
  },
  {
   "cell_type": "markdown",
   "metadata": {},
   "source": [
    "#### 4.2\n",
    "Try different images (loading in the top cell (`im`)) and different transforms (a 2x2 matrix `t`), and different interpolation methods (\"nearest\", \"linear\" or \"cubic\")\n",
    "\n",
    "The `ax` argument to the `linear transformation` function determines how big the output is. It represents the **min** and **max** bounds for the **height** and **width**\n",
    "\n",
    "This shows from 0->height and 0->width of the input image\n",
    "\n",
    "```[[0,1],[0,1]]```\n",
    "\n",
    "This shows from -height->height and 0->width of the input image\n",
    "\n",
    "```[[-1,1],[0,1]]```\n",
    "\n",
    "This shows from -2\\*height->2\\*height and -2\\*width->2\\*width of the input image\n",
    "\n",
    "```[[-2,2],[-2,2]]```"
   ]
  },
  {
   "cell_type": "markdown",
   "metadata": {},
   "source": [
    "## Task 5 - Interpolation \n",
    "\n",
    "### 1D\n",
    "\n",
    "Here we have a have an example of using interpolation in one dimension. \n",
    "\n",
    "#### 5.1 \n",
    "Using the code at the bottom, experiment with changing how many points you have to interpolate (as a percentage of the original image in `sample_amount`) from, and which interpolation method (nearest, linear or cubic in `mode`)\n"
   ]
  },
  {
   "cell_type": "code",
   "execution_count": null,
   "metadata": {},
   "outputs": [],
   "source": [
    "#####################################################\n",
    "def func(x):\n",
    "    x = np.array(x)\n",
    "    return np.sin(2*x)*np.cos(x/2)\n",
    "\n",
    "def plot(sample_amount,mode):\n",
    "    #Get points\n",
    "    num_points = 1000\n",
    "    total_x = np.linspace(0,10*np.pi,num_points)\n",
    "    known_x = total_x.copy()\n",
    "    total_points = func(total_x)\n",
    "    np.random.shuffle(known_x)\n",
    "    sample_amount = int(num_points*(sample_amount)/100)\n",
    "    known_x = sorted(known_x[:sample_amount])\n",
    "    known_points = func(known_x)\n",
    "    #Interpolate\n",
    "    f = interpolate.interp1d(known_x, known_points,kind=mode,fill_value=\"extrapolate\")\n",
    "    ynew = f(total_x)\n",
    "    #Plot\n",
    "    fig, ax = plt.subplots(figsize = (12,4))\n",
    "    ax.plot(total_x,total_points,label=\"original\")\n",
    "    ax.plot(known_x,known_points,\"ro\",label=\"points\")\n",
    "    ax.plot(total_x, ynew,label=\"interpolation\")\n",
    "    ax.legend()\n",
    "\n",
    "\n",
    "#####################################################    \n",
    "\n",
    "   \n",
    "#Change the amount of the original sample available, and interpolation method\n",
    "\n",
    "#How many points to interpolate from? (percentage of original function)\n",
    "sample_amount = 5\n",
    "#What interpolation method? (\"nearest\", \"linear\",\"cubic\")\n",
    "mode = \"nearest\"\n",
    "\n",
    "plot(sample_amount, mode)"
   ]
  },
  {
   "cell_type": "markdown",
   "metadata": {},
   "source": [
    "## 2D\n",
    "\n",
    "Now we're going to investigate how the same process works in 2 Dimensions with an image. \n",
    "\n",
    "#### 5.2\n",
    "\n",
    "As above, you can pick how many points you have to interpolate with (`sample_amount`), and what interpolation function to use (`mode`). \n",
    "\n",
    "What we show you is the original image, the same points that we know the values of when interpolating and then the result of the interpolation "
   ]
  },
  {
   "cell_type": "code",
   "execution_count": null,
   "metadata": {},
   "outputs": [],
   "source": [
    "im = np.array(Image.open(\"images/smol_cat.jpg\").convert('L'))\n",
    "im = np.flip(im,axis=0)"
   ]
  },
  {
   "cell_type": "code",
   "execution_count": null,
   "metadata": {},
   "outputs": [],
   "source": [
    "#####################################################\n",
    "\n",
    "def plot(sample_amount,mode):\n",
    "    h, w = im.shape\n",
    "    #Get sample\n",
    "    pts = np.arange(h*w)\n",
    "    x,y = np.mgrid[0:w, 0:h]\n",
    "    np.random.shuffle(pts)\n",
    "    sample_amount = int(len(pts)*(sample_amount)/100)\n",
    "    pts = sorted(pts[:sample_amount])\n",
    "    coords = [i for i in zip(x.ravel()[pts],y.ravel()[pts])]\n",
    "    values = [im[i[1],i[0]] for i in coords]\n",
    "    sample = np.ones((h,w))*255\n",
    "    for i,c in enumerate(coords):\n",
    "        sample[c[1],c[0]] = values[i]\n",
    "    #Interpolate\n",
    "    tx,ty = np.mgrid[0:h, 0:w]\n",
    "    interpolated = griddata(coords, values,(ty,tx), method=mode)\n",
    "    print(interpolated.shape)\n",
    "    #Plot\n",
    "    fig,ax = plt.subplots(ncols = 3,figsize=(12,6))\n",
    "    ax[0].imshow(im, origin = \"lower\", cmap=\"gray\")\n",
    "    ax[0].set_title(\"Original\")\n",
    "    ax[1].imshow(sample, origin = \"lower\", cmap=\"gray\")\n",
    "    ax[1].set_title(\"Sample\")\n",
    "    ax[2].imshow(interpolated, origin = \"lower\", cmap=\"gray\")\n",
    "    ax[2].set_title(\"Interpolated\")\n",
    "\n",
    "#####################################################\n",
    "\n",
    "#Change the amount of the original sample available, and interpolation method\n",
    "\n",
    "#How many points to interpolate from?(percentage of pixels in image)\n",
    "sample_amount = 5\n",
    "#What interpolation method? (\"nearest\", \"linear\",\"cubic\")\n",
    "mode = \"nearest\"\n",
    "\n",
    "plot(sample_amount, mode)"
   ]
  }
 ],
 "metadata": {
  "kernelspec": {
   "display_name": "Python 3",
   "language": "python",
   "name": "python3"
  },
  "language_info": {
   "codemirror_mode": {
    "name": "ipython",
    "version": 3
   },
   "file_extension": ".py",
   "mimetype": "text/x-python",
   "name": "python",
   "nbconvert_exporter": "python",
   "pygments_lexer": "ipython3",
   "version": "3.8.5"
  }
 },
 "nbformat": 4,
 "nbformat_minor": 4
}
