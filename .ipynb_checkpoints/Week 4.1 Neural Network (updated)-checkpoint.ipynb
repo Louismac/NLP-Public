{
 "cells": [
  {
   "cell_type": "code",
   "execution_count": 2,
   "metadata": {},
   "outputs": [],
   "source": [
    "import librosa\n",
    "import numpy as np\n",
    "from sklearn.preprocessing import minmax_scale\n",
    "import os \n",
    "import matplotlib.pyplot as plt"
   ]
  },
  {
   "cell_type": "markdown",
   "metadata": {},
   "source": [
    "# Neural Networks from Scratch \n",
    "\n",
    "Neural Networks consist of the following components:\n",
    "\n",
    "* An input layer\n",
    "\n",
    "* An arbitrary amount of hidden layers\n",
    "\n",
    "* An output layer\n",
    "\n",
    "* A set of weights and biases between each layer\n",
    "\n",
    "* A choice of activation function for each hidden layer.\n",
    "    \n",
    "    \n",
    "We are going to make a Neural Network that has \n",
    "\n",
    "* 2 Inputs (audio features)\n",
    "* 1 Hidden layer (with 3 neurons)\n",
    "* 1 Output (type of drum)\n",
    "\n",
    "We have two sets of weights,  \n",
    "\n",
    "* Input (+ bias) -> Hidden layer\n",
    "    * [num_inputs + 1, num_hidden_nodes] = 3 x 3\n",
    "* Hidden Layer (+ bias) -> Output\n",
    "    * [num_hidden_nodes + 1, num_outputs] = 4 x 1\n",
    "\n",
    "**Total 13 parameters**\n",
    "\n",
    "### Randomly initiate weights\n",
    "\n",
    "First we have to randomly initiate the weights, otherwise training will **not work**. We could, for example, start them all at zero, but for reasons that will become apparent, this is a bad idea. \n"
   ]
  },
  {
   "cell_type": "code",
   "execution_count": 3,
   "metadata": {},
   "outputs": [],
   "source": [
    "#Determine the structure of our network (how many neurons in each layer)\n",
    "#Get some data (2 inputs)\n",
    "x = np.array([[3,4]])\n",
    "input_size = x.shape[1]\n",
    "hidden_size = 3\n",
    "\n",
    "#Randomly initiate the weights\n",
    "hidden_weights = np.random.rand(input_size + 1, hidden_size) \n",
    "output_weights = np.random.rand(hidden_size + 1, 1) "
   ]
  },
  {
   "cell_type": "code",
   "execution_count": 4,
   "metadata": {},
   "outputs": [
    {
     "data": {
      "text/plain": [
       "((3, 3), (4, 1))"
      ]
     },
     "execution_count": 4,
     "metadata": {},
     "output_type": "execute_result"
    }
   ],
   "source": [
    "hidden_weights.shape, output_weights.shape"
   ]
  },
  {
   "cell_type": "markdown",
   "metadata": {},
   "source": [
    "### Layer Activations\n",
    "\n",
    "We also need somewhere to hold the outputs (activiations) of each neuron \n",
    "\n",
    "For the hidden layer, there will be **3**\n",
    "\n",
    "For the output, there will be **1**\n",
    "\n",
    "We initialise these to be zero at beginning "
   ]
  },
  {
   "cell_type": "code",
   "execution_count": 5,
   "metadata": {},
   "outputs": [],
   "source": [
    "hidden_layer = np.zeros((hidden_size, 1))\n",
    "output = np.zeros(1)"
   ]
  },
  {
   "cell_type": "code",
   "execution_count": 6,
   "metadata": {},
   "outputs": [
    {
     "data": {
      "text/plain": [
       "((3, 1), (1,))"
      ]
     },
     "execution_count": 6,
     "metadata": {},
     "output_type": "execute_result"
    }
   ],
   "source": [
    "hidden_layer.shape, output.shape"
   ]
  },
  {
   "cell_type": "markdown",
   "metadata": {},
   "source": [
    "### Making a Forwards Pass\n",
    "\n",
    "Now we pump some numbers into our network and get an output out the otherside. This is known as the **forwards pass**\n",
    "\n",
    "Each **input neuron** is connected to each **hidden layer neuron**, with a corresponding weight. We multiply each input by the weight, **sum** up all the inputs for each neuron then pass through the **sigmoid function** \n",
    "\n",
    "### Matrix Multiplication \n",
    "\n",
    "![fishy](images/matrix_mul.png)\n",
    "\n",
    "Lets take a quick stop to remember our linear algebra. When we multiply two matrices together, we take the **dot product** each row of the first matrix and each column of the second matrix. And the **dot product** is where we multiply two sets of numbers together then sum. Sound familiar? \n",
    "\n",
    "If the input matrix is **1 x 2**, plus a bias term **1**\n",
    "\n",
    "``x = [[3, 4, 1]]``\n",
    "\n",
    "and the ``hidden_weights`` matrix has is **3 x 3**, with each row representing the weights connecting a single input  (there are 3 of these) neuron to each neuron in the hidden layer (there are 3 of these). \n",
    "\n",
    "Then we can multiply the two together to get a **1 x 3** matrix containing the sums of all the connections. We then run this through the **sigmoid activation function**\n",
    "\n",
    "### The hidden neuron activations\n",
    "\n",
    "We take the first row of the input ``[3,4,1]`` and the first column of the ``hidden_weights``, multiply each together **element-wise**, then **sum**. Once we have **added the bias** passed it through the **sigmoid function**, this is the **output** of the first hidden neuron\n",
    "\n",
    "```\n",
    "\n",
    "hidden_layer[0] = sigmoid(input[0][0] * hidden_weight[0][0] + input[0][1] * hidden_weight[1][0] + hidden_weight[2][0])\n",
    "hidden_layer[1] = sigmoid(input[0][0] * hidden_weight[0][1] + input[0][1] * hidden_weight[1][1] + hidden_weight[2][1])\n",
    "hidden_layer[2] = sigmoid(input[0][0] * hidden_weight[0][2] + input[0][1] * hidden_weight[1][2] + hidden_weight[2][2])\n",
    "\n",
    "\n",
    "```"
   ]
  },
  {
   "cell_type": "code",
   "execution_count": 7,
   "metadata": {},
   "outputs": [],
   "source": [
    "#Add one to all rows for bias term\n",
    "def with_bias(x):\n",
    "    x = np.array(x)\n",
    "    ones = np.ones((1,x.shape[0])).T\n",
    "    return np.hstack((x, ones))"
   ]
  },
  {
   "cell_type": "code",
   "execution_count": 12,
   "metadata": {
    "scrolled": false
   },
   "outputs": [
    {
     "name": "stdout",
     "output_type": "stream",
     "text": [
      "input \n",
      " [[3. 4. 1.]]\n",
      "weights \n",
      " [[0.74895485 0.21520997 0.93598444]\n",
      " [0.74228077 0.72887431 0.2368401 ]\n",
      " [0.46523849 0.64803637 0.57414992]]\n",
      "hidden layer outputs \n",
      " [[0.99660221 0.98535876 0.9869967 ]]\n",
      "output \n",
      " [[0.85190177]]\n"
     ]
    }
   ],
   "source": [
    "#Define the sigmoid function \n",
    "def sigmoid(x):\n",
    "    return 1/(1 + np.exp(-x))\n",
    "\n",
    "#Forward Pass\n",
    "x = with_bias([[3,4]])\n",
    "print(\"input with bias term \\n\",x)\n",
    "print(\"weights \\n\",hidden_weights)\n",
    "hidden_layer = sigmoid(x @ hidden_weights)\n",
    "print(\"hidden layer outputs \\n\",hidden_layer)\n",
    "output = sigmoid(with_bias(hidden_layer) @ output_weights)\n",
    "print(\"output \\n\",output)"
   ]
  },
  {
   "cell_type": "code",
   "execution_count": 13,
   "metadata": {},
   "outputs": [
    {
     "name": "stdout",
     "output_type": "stream",
     "text": [
      "hidden layer outputs \n",
      " [[0.99660221 0.98535876 0.9869967 ]\n",
      " [0.99982729 0.99775619 0.99873966]\n",
      " [0.99666934 0.93512213 0.99838515]]\n",
      "output \n",
      " [[0.85190177]\n",
      " [0.85329513]\n",
      " [0.85246724]]\n"
     ]
    }
   ],
   "source": [
    "#Also works with multiple inputs at once\n",
    "x = with_bias([[3,4],[5,6],[6,1]])\n",
    "\n",
    "#Forward Pass\n",
    "hidden_layer = sigmoid(x @ hidden_weights)\n",
    "## We get 3 sets of hidden layer outputs from 3 sets of inputs\n",
    "print(\"hidden layer outputs \\n\",hidden_layer)\n",
    "output = sigmoid(with_bias(hidden_layer) @ output_weights)\n",
    "## And 3 outputs\n",
    "print(\"output \\n\",output)"
   ]
  },
  {
   "cell_type": "markdown",
   "metadata": {},
   "source": [
    "### Getting good weights\n",
    "\n",
    "Its a **Neural Network!**. But it doesnt actually do anything useful. \n",
    "\n",
    "So, lets get a define a problem, get some data and then use this data to **update the weights** so our network can give sensible predictions when it sees **new data**. \n",
    "\n",
    "### The Dataset \n",
    "\n",
    "We're going to take some audio files of two types of drum hits, **snares** and **hihats**. \n",
    "\n",
    "If our model has only **2 inputs**, we need take each audio file and get **2 features** that accurately represent the similarities within classes and differences between classes. \n",
    "\n",
    "We use the **librosa** library to get the **spectral flatness** and **spectral centroid**. These tell us something about the frequencies present in a given window in the file (**1028** samples in our case). \n",
    "\n",
    "Lets take a look at some examples"
   ]
  },
  {
   "cell_type": "code",
   "execution_count": 9,
   "metadata": {},
   "outputs": [
    {
     "data": {
      "text/plain": [
       "Text(0.5, 1.0, 'Spectral Centroid')"
      ]
     },
     "execution_count": 9,
     "metadata": {},
     "output_type": "execute_result"
    },
    {
     "data": {
      "image/png": "[encoded data removed]",
      "text/plain": [
       "<Figure size 864x432 with 2 Axes>"
      ]
     },
     "metadata": {
      "needs_background": "light"
     },
     "output_type": "display_data"
    }
   ],
   "source": [
    "#Load audio file\n",
    "hh, sr = librosa.load(\"audio/drum_hits/hihat_hatsH1.WAV\")\n",
    "sn, sr = librosa.load(\"audio/drum_hits/snare_SNR111.WAV\")\n",
    "#Get features for whole audio\n",
    "flatness_hh = librosa.feature.spectral_flatness(y=hh,n_fft=1028)\n",
    "cent_hh = librosa.feature.spectral_centroid(y=hh, sr=sr,n_fft=1028)\n",
    "flatness_sn = librosa.feature.spectral_flatness(y=sn,n_fft=1028)\n",
    "cent_sn = librosa.feature.spectral_centroid(y=sn, sr=sr,n_fft=1028)\n",
    "fig, ax = plt.subplots(ncols=2,figsize=(12,6))\n",
    "#plot\n",
    "ax[0].plot(flatness_hh[0], label = \"hihat\")\n",
    "ax[0].plot(flatness_sn[0], label = \"snare\")\n",
    "ax[1].plot(cent_hh[0], label = \"hihat\")\n",
    "ax[1].plot(cent_sn[0], label = \"snare\")\n",
    "ax[0].legend()\n",
    "ax[1].legend()\n",
    "ax[0].set_title(\"Spectral Flatness\")\n",
    "ax[1].set_title(\"Spectral Centroid\")"
   ]
  },
  {
   "cell_type": "markdown",
   "metadata": {},
   "source": [
    "### Getting the mean \n",
    "\n",
    "Each feature gives us 5-6 values (depending on the length of the audio file). We only want 2 inputs per audio file!\n",
    "\n",
    "We can see that there is some change over the file but probably the **mean** of each **feature** will be enough to differentiate between the two types of drum\n",
    "\n",
    "### Getting the whole set \n",
    "\n",
    "Below we scan the whole ``../audio/drum_hits`` folder and get the **mean spectral flatness** and **mean spectral centroid** for every file. We now have **2 features** that represent each audio file, alongside a label telling us which class they are in. \n",
    "\n",
    "### Normalising \n",
    "\n",
    "We also **normalise** each feature so they are between **0 and 1** using the ``minmax_scale`` function from the ``sklearn`` library. Before, the centroid feature went up to **7000**! This practise is common when training neural networks and I'll go into more detail later. "
   ]
  },
  {
   "cell_type": "code",
   "execution_count": 16,
   "metadata": {},
   "outputs": [
    {
     "name": "stderr",
     "output_type": "stream",
     "text": [
      "/opt/anaconda3/lib/python3.8/site-packages/librosa/core/spectrum.py:222: UserWarning: n_fft=1028 is too small for input signal of length=772\n",
      "  warnings.warn(\n",
      "/opt/anaconda3/lib/python3.8/site-packages/librosa/core/spectrum.py:222: UserWarning: n_fft=1028 is too small for input signal of length=882\n",
      "  warnings.warn(\n",
      "/opt/anaconda3/lib/python3.8/site-packages/librosa/core/spectrum.py:222: UserWarning: n_fft=1028 is too small for input signal of length=909\n",
      "  warnings.warn(\n"
     ]
    }
   ],
   "source": [
    "#Get dataset\n",
    "x = []\n",
    "y = []\n",
    "#Walk through all the files\n",
    "for root, dirs, files in os.walk(\"audio/drum_hits\", topdown=False):\n",
    "    for name in files:\n",
    "        ## Get all the \".wav\" files\n",
    "        if \".wav\" in name.lower():\n",
    "            f = os.path.join(root, name)\n",
    "            #Class 0 is snares, class 1 is hihats \n",
    "            label = 0 if \"snare\" in name else 1\n",
    "            #Load audio file\n",
    "            audio, sr = librosa.load(f)\n",
    "            #Get features for whole audio\n",
    "            flatness = librosa.feature.spectral_flatness(y=audio,n_fft=1028)\n",
    "            cent = librosa.feature.spectral_centroid(y=audio, sr=sr,n_fft=1028)\n",
    "            #Get mean across the audio\n",
    "            features = [np.mean(flatness), np.mean(cent)]\n",
    "            #Add to dataset\n",
    "            x.append(features)\n",
    "            y.append([label])\n",
    "\n",
    "x = np.array(x)\n",
    "y = np.array(y)\n",
    "#Scale to between 0 and 1\n",
    "x = minmax_scale(x)\n",
    "y = minmax_scale(y)"
   ]
  },
  {
   "cell_type": "markdown",
   "metadata": {},
   "source": [
    "### Checking out the features\n",
    "\n",
    "We can plot our two features against each other and label the separate classes in different colours. These look like good features because the two classes look reasonably separable. "
   ]
  },
  {
   "cell_type": "code",
   "execution_count": 17,
   "metadata": {
    "scrolled": true
   },
   "outputs": [
    {
     "data": {
      "text/plain": [
       "<matplotlib.legend.Legend at 0x1196e55e0>"
      ]
     },
     "execution_count": 17,
     "metadata": {},
     "output_type": "execute_result"
    },
    {
     "data": {
      "image/png": "[encoded data removed]",
      "text/plain": [
       "<Figure size 432x288 with 1 Axes>"
      ]
     },
     "metadata": {
      "needs_background": "light"
     },
     "output_type": "display_data"
    }
   ],
   "source": [
    "#Check out the classes and features \n",
    "fig,ax = plt.subplots()\n",
    "scatter = ax.scatter(x[:,0],x[:,1],c=y)\n",
    "legend1 = ax.legend(*scatter.legend_elements(), title=\"Drum Type\")\n",
    "ax.add_artist(legend1)"
   ]
  },
  {
   "cell_type": "markdown",
   "metadata": {},
   "source": [
    "### Back to the Network!\n",
    "\n",
    "We can now take all of drums (represented by 2 features each) and run these through the network. Again, the output will be rubbish because the weights are **random**\n",
    "\n",
    "Here, we just pass **all the examples** at once. We can do this because the dataset is reasonably small. When you have larger datasets, it can be necessary to pass it in **batches** (e.g. 32 at a time)."
   ]
  },
  {
   "cell_type": "code",
   "execution_count": 18,
   "metadata": {
    "scrolled": true
   },
   "outputs": [
    {
     "data": {
      "text/plain": [
       "(86,\n",
       " array([[0.80551512],\n",
       "        [0.81160956],\n",
       "        [0.78316959],\n",
       "        [0.81335157],\n",
       "        [0.77769465],\n",
       "        [0.79114502],\n",
       "        [0.78337803],\n",
       "        [0.79351001],\n",
       "        [0.79346744],\n",
       "        [0.80448094],\n",
       "        [0.81308289],\n",
       "        [0.78705995],\n",
       "        [0.80032646],\n",
       "        [0.79428999],\n",
       "        [0.81289223],\n",
       "        [0.79870629],\n",
       "        [0.79185186],\n",
       "        [0.8051507 ],\n",
       "        [0.80665045],\n",
       "        [0.80104707],\n",
       "        [0.81641986],\n",
       "        [0.78485147],\n",
       "        [0.78503055],\n",
       "        [0.80763645],\n",
       "        [0.80285366],\n",
       "        [0.79135414],\n",
       "        [0.81201786],\n",
       "        [0.80995081],\n",
       "        [0.80195992],\n",
       "        [0.80408655],\n",
       "        [0.82067496],\n",
       "        [0.80690479],\n",
       "        [0.80343786],\n",
       "        [0.78721795],\n",
       "        [0.80039267],\n",
       "        [0.82372418],\n",
       "        [0.80765757],\n",
       "        [0.80958751],\n",
       "        [0.79814662],\n",
       "        [0.79961421],\n",
       "        [0.80300932],\n",
       "        [0.80368566],\n",
       "        [0.8156791 ],\n",
       "        [0.80274574],\n",
       "        [0.80704304],\n",
       "        [0.77719517],\n",
       "        [0.79863633],\n",
       "        [0.79545478],\n",
       "        [0.80290898],\n",
       "        [0.78055969],\n",
       "        [0.78914294],\n",
       "        [0.79241977],\n",
       "        [0.8145283 ],\n",
       "        [0.78972283],\n",
       "        [0.8069978 ],\n",
       "        [0.78852956],\n",
       "        [0.78195318],\n",
       "        [0.81739468],\n",
       "        [0.80374805],\n",
       "        [0.77893769],\n",
       "        [0.7995908 ],\n",
       "        [0.80817298],\n",
       "        [0.8151576 ],\n",
       "        [0.79186081],\n",
       "        [0.78664801],\n",
       "        [0.80166582],\n",
       "        [0.81154386],\n",
       "        [0.78280184],\n",
       "        [0.80873608],\n",
       "        [0.8013904 ],\n",
       "        [0.78523957],\n",
       "        [0.80149971],\n",
       "        [0.79799749],\n",
       "        [0.80292272],\n",
       "        [0.80143998],\n",
       "        [0.81303003],\n",
       "        [0.78401949],\n",
       "        [0.81180329],\n",
       "        [0.79634179],\n",
       "        [0.79761621],\n",
       "        [0.79505558],\n",
       "        [0.79238377],\n",
       "        [0.80634236],\n",
       "        [0.78596719],\n",
       "        [0.791417  ],\n",
       "        [0.78670073]]))"
      ]
     },
     "execution_count": 18,
     "metadata": {},
     "output_type": "execute_result"
    }
   ],
   "source": [
    "#Forward Pass\n",
    "hidden_layer = sigmoid(with_bias(x) @ hidden_weights)\n",
    "output = sigmoid(with_bias(hidden_layer) @ output_weights)\n",
    "#we get 86 outputs back!\n",
    "len(output), output"
   ]
  },
  {
   "cell_type": "markdown",
   "metadata": {},
   "source": [
    "### Training \n",
    "\n",
    "The way we get better weights is by **training** and in the case of neural networks, training is a process of **updating the weights**. We first work out the **loss** so we know how good our model is, then we are going to use this information to nudge the weights slightly, hopefully improving performance. \n",
    "\n",
    "If we do this enough times, we hopefully end up with weights that will transform our **input (audio features)** into an **output (type of drum)** that correctly reflects the phenomena we are trying model!\n",
    "\n",
    "### Gradient Descent\n",
    "\n",
    "I'm going to show you one of doing this known as **gradient descent**. Essentially, you can think of our task as finding the **parameters** (weights) that **minimise** (get the lowest value of) a **loss function** (how bad our model is predicting labels). In this context, a low loss is a good thing!\n",
    "\n",
    "![fishy](images/grad-descent.png)\n",
    "\n",
    "Image from https://towardsdatascience.com/how-to-build-your-own-neural-network-from-scratch-in-python-68998a08e4f6\n",
    "\n",
    "We'll cover this in more detail in the next lecture, but the basics are \n",
    "\n",
    "1. Calculate the error. We will use the **Mean Squared Error** as a **loss function**. This means we find the difference between the output and the target label, square it, then find the average across all the examples.\n",
    "\n",
    "2. For each weight in the network, determine the gradient of the loss function. This tells us the direction to head in \n",
    "\n",
    "3. Update each weight using this gradient multiplied by a **learning rate**. Higher learning rate means more change each time. "
   ]
  },
  {
   "cell_type": "code",
   "execution_count": 31,
   "metadata": {},
   "outputs": [],
   "source": [
    "from cci_gradients import get_gradients_bias\n"
   ]
  },
  {
   "cell_type": "code",
   "execution_count": 32,
   "metadata": {},
   "outputs": [
    {
     "name": "stdout",
     "output_type": "stream",
     "text": [
      "one gradient for each weight:\n",
      "(3, 3) (3, 3)\n",
      "(4, 1) (4, 1)\n"
     ]
    },
    {
     "data": {
      "text/plain": [
       "0.29903651727917346"
      ]
     },
     "execution_count": 32,
     "metadata": {},
     "output_type": "execute_result"
    }
   ],
   "source": [
    "#The Backwards Pass\n",
    "#Get gradients for the mean squared error loss function (using chain rule, don't worry about this yet!)\n",
    "learning_rate = 0.05\n",
    "hidden_layer = sigmoid(with_bias(x) @ hidden_weights)\n",
    "output = sigmoid(with_bias(hidden_layer) @ output_weights)\n",
    "hidden_gradients,output_gradients = get_gradients_bias(with_bias(x), y, with_bias(hidden_layer), output, hidden_weights, output_weights, learning_rate)\n",
    "\n",
    "#update the weights with the gradient (slope) of the loss function and learning rate\n",
    "print(\"one gradient for each weight:\")\n",
    "print(hidden_weights.shape,hidden_gradients.shape)\n",
    "print(output_weights.shape,output_gradients.shape)\n",
    "hidden_weights = hidden_weights - (hidden_gradients * learning_rate)\n",
    "output_weights = output_weights - (output_gradients * learning_rate)\n",
    "#Mean Squared Error for the batch\n",
    "error = np.mean(np.square(y - output))\n",
    "error"
   ]
  },
  {
   "cell_type": "markdown",
   "metadata": {},
   "source": [
    "### Aside (Randomly Initialised Weights)\n",
    "\n",
    "If you initialised them all to zero (or any same number), then the update would be the same for every neuron! This would be the same as having **only one neuron** in each layer, which gets rid of many of the advantages of multi-layered networks.\n",
    "\n",
    "\n",
    "### Batches\n",
    "\n",
    "Couple of final things before we put it all together \n",
    "\n",
    "**One Epoch** is what we call one training cycle with all the data \n",
    "\n",
    "We can chose how much data to use at once. \n",
    "\n",
    "* Batch Gradient Descent gives the whole dataset at once. This means we optimise the weights based on every example at once\n",
    "\n",
    "* Stochastic Gradient Descent uses one (randomly selected) example at a time. \n",
    "\n",
    "* Mini-batch Gradient Descent takes smaller sections of the whole dataset at a time.\n",
    "\n",
    "In the code below you can specify the batch size.\n",
    "\n",
    "# Putting it all together \n",
    "\n",
    "1. Initialise the weights to random numbers \n",
    "\n",
    "2. Split the training set into batches (anywhere from 1 -> whole dataset)\n",
    "\n",
    "3. Forward Pass to get the outputs\n",
    "\n",
    "4. Compare against expected outputs and use error to get gradients for each weight\n",
    "\n",
    "5. Update the weights using gradients and learning rate \n",
    "\n",
    "6. Go to 3"
   ]
  },
  {
   "cell_type": "code",
   "execution_count": 33,
   "metadata": {},
   "outputs": [],
   "source": [
    "#Initialise\n",
    "def sigmoid(x):\n",
    "    return 1/(1 + np.exp(-x))\n",
    "\n",
    "##How many hidden neurons in the hidden layer?\n",
    "input_size = x.shape[1]\n",
    "hidden_size = 10\n",
    "\n",
    "hidden_weights = np.random.randn(input_size + 1, hidden_size) \n",
    "output_weights = np.random.randn(hidden_size + 1, y.shape[1])    \n",
    "\n",
    "hidden_layer = np.zeros((hidden_size, y.shape[1]))\n",
    "output = np.zeros(y.shape[1])\n",
    "\n",
    "#Parameters (batch size, learning rate)\n",
    "num_examples = x.shape[0]\n",
    "batch_size = num_examples\n",
    "batches_per_epoch = int(np.ceil(num_examples / batch_size))\n",
    "epochs = 200\n",
    "learning_rate = 0.1"
   ]
  },
  {
   "cell_type": "code",
   "execution_count": 36,
   "metadata": {
    "scrolled": true
   },
   "outputs": [
    {
     "name": "stdout",
     "output_type": "stream",
     "text": [
      "0.49593636290454146\n",
      "0.34431436300468937\n",
      "0.3280679135596562\n",
      "0.2456454958875602\n",
      "0.24496399738307145\n",
      "0.25645405253840176\n",
      "0.30097452601137487\n",
      "0.2483463045581287\n",
      "0.30276527012895343\n",
      "0.23685377577743355\n",
      "0.2973647670308678\n",
      "0.23561265995433447\n",
      "0.3101852582169094\n",
      "0.20735888500620403\n",
      "0.2604540131101968\n",
      "0.2752135868856431\n",
      "0.346833818714104\n",
      "0.1918380234804886\n",
      "0.2498968909810196\n",
      "0.34398784181399994\n",
      "0.17739897010151406\n",
      "0.23381532599067753\n",
      "0.3393112366302164\n",
      "0.16082377629185088\n",
      "0.20300630545966997\n",
      "0.3182226282552162\n",
      "0.14064420561039348\n",
      "0.14273198315526076\n",
      "0.17275019126382418\n",
      "0.27970646589500775\n",
      "0.17040189186576515\n",
      "0.2781361890686941\n",
      "0.16141559971460434\n",
      "0.2628009535382087\n",
      "0.17542364708818198\n",
      "0.28004247028407797\n",
      "0.13548965830973514\n",
      "0.2066936567864201\n",
      "0.22044027469851507\n",
      "0.28485733216800296\n",
      "0.10960037423046563\n",
      "0.13900706850205158\n",
      "0.18711519589031275\n",
      "0.24763151179783222\n",
      "0.13247059318640966\n",
      "0.18116136382208395\n",
      "0.17396059004899692\n",
      "0.20981401308826458\n",
      "0.14319488524343513\n",
      "0.17148531381287446\n",
      "0.14830856994953334\n",
      "0.16333394760298042\n",
      "0.13745018105694334\n",
      "0.1434681504785217\n",
      "0.12621866411577493\n",
      "0.12592758639915158\n",
      "0.11337441985450938\n",
      "0.10979689568964246\n",
      "0.10045328966303457\n",
      "0.0959058704915135\n",
      "0.08896042893303346\n",
      "0.08482893830622693\n",
      "0.0799081751064956\n",
      "0.07677059114067122\n",
      "0.0735665319372891\n",
      "0.07146793213485107\n",
      "0.06955991714163776\n",
      "0.06827562517228611\n",
      "0.06719962400116963\n",
      "0.06643811331078742\n",
      "0.0658184727389701\n",
      "0.06534229371768037\n",
      "0.0649425154883053\n",
      "0.06460384861054146\n",
      "0.06430154208735642\n",
      "0.06402524407694885\n",
      "0.0637662787169506\n",
      "0.06351986621330462\n",
      "0.06328311216587579\n",
      "0.06305412944270715\n",
      "0.0628319483832517\n",
      "0.06261582402478905\n",
      "0.0624053682900102\n",
      "0.06220022583466081\n",
      "0.062000170227788906\n",
      "0.06180497378541122\n",
      "0.06161445705050764\n",
      "0.06142843968704446\n",
      "0.06124676228071564\n",
      "0.06106926830379124\n",
      "0.06089581266098338\n",
      "0.06072625510415894\n",
      "0.06056046319085786\n",
      "0.060398309819809815\n",
      "0.060239674057676794\n",
      "0.0600844401315409\n",
      "0.0599324975157077\n",
      "0.05978374043652425\n",
      "0.05963806773229609\n",
      "0.059495382544349905\n",
      "0.05935559212464443\n",
      "0.05921860760309389\n",
      "0.059084343797098704\n",
      "0.05895271901803716\n",
      "0.058823654897087685\n",
      "0.05869707621754666\n",
      "0.05857291075908271\n",
      "0.05845108915012654\n",
      "0.05833154472934091\n",
      "0.05821421341482028\n",
      "0.0580990335808685\n",
      "0.05798594594168002\n",
      "0.05787489344155703\n",
      "0.05776582115120047\n",
      "0.05765867616970348\n",
      "0.05755340753187655\n",
      "0.0574499661205727\n",
      "0.05734830458369831\n",
      "0.05724837725562161\n",
      "0.05715014008270782\n",
      "0.05705355055273123\n",
      "0.05695856762793049\n",
      "0.05686515168148959\n",
      "0.05677326443724223\n",
      "0.056682868912410096\n",
      "0.056593929363199014\n",
      "0.05650641123308826\n",
      "0.05642028110365902\n",
      "0.05633550664781796\n",
      "0.05625205658528192\n",
      "0.05616990064019678\n",
      "0.05608900950077383\n",
      "0.05600935478083165\n",
      "0.055930908983140945\n",
      "0.05585364546447494\n",
      "0.05577753840227321\n",
      "0.05570256276283485\n",
      "0.05562869427095868\n",
      "0.05555590938095633\n",
      "0.055484185248965985\n",
      "0.05541349970650044\n",
      "0.05534383123516602\n",
      "0.05527515894249322\n",
      "0.0552074625388229\n",
      "0.05514072231519551\n",
      "0.055074919122193304\n",
      "0.05501003434968872\n",
      "0.05494604990745465\n",
      "0.05488294820659456\n",
      "0.05482071214175294\n",
      "0.054759325074068985\n",
      "0.0546987708148373\n",
      "0.054639033609843325\n",
      "0.05458009812434073\n",
      "0.054521949428641636\n",
      "0.05446457298429038\n",
      "0.05440795463079498\n",
      "0.054352080572889656\n",
      "0.0542969373683051\n",
      "0.05424251191602297\n",
      "0.054188791444993153\n",
      "0.054135763503292904\n",
      "0.05408341594770839\n",
      "0.05403173693371977\n",
      "0.05398071490587246\n",
      "0.053930338588517035\n",
      "0.053880596976902714\n",
      "0.05383147932860814\n",
      "0.053782975155295766\n",
      "0.053735074214775684\n",
      "0.053687766503365576\n",
      "0.05364104224853464\n",
      "0.05359489190181945\n",
      "0.05354930613200005\n",
      "0.05350427581852601\n",
      "0.053459792045181545\n",
      "0.05341584609398036\n",
      "0.05337242943928015\n",
      "0.05332953374210877\n",
      "0.05328715084469229\n",
      "0.05324527276517786\n",
      "0.053203891692542846\n",
      "0.053162999981683084\n",
      "0.05312259014867313\n",
      "0.05308265486619141\n",
      "0.05304318695910426\n",
      "0.053004179400202044\n",
      "0.052965625306081864\n",
      "0.05292751793317085\n",
      "0.05288985067388472\n",
      "0.052852617052916356\n",
      "0.05281581072364947\n",
      "0.052779425464692414\n",
      "0.052743455176527586\n",
      "0.05270789387827225\n",
      "0.052672735704546336\n",
      "0.052637974902443145\n",
      "0.05260360582859945\n",
      "0.05256962294636066\n",
      "0.05253602082303841\n"
     ]
    }
   ],
   "source": [
    "#Training\n",
    "#Every epoch is every example once\n",
    "for i in range(epochs):\n",
    "    start = 0;\n",
    "    errors = []\n",
    "    for i in range(batches_per_epoch):\n",
    "        \n",
    "        #Get new batch of examples\n",
    "        end = start + batch_size\n",
    "        end = np.min([end,num_examples])\n",
    "        #Batch inputs\n",
    "        batch_x = x[start:end]\n",
    "        #Batch output labels\n",
    "        batch_y = y[start:end]\n",
    "\n",
    "        \n",
    "        #Forwards pass\n",
    "        hidden_layer = sigmoid(with_bias(batch_x) @ hidden_weights)\n",
    "        output = sigmoid(with_bias(hidden_layer) @ output_weights)\n",
    "        #Mean Squared Error for the batch\n",
    "        \n",
    "        error = np.mean(np.square(batch_y - output))\n",
    "        hidden_gradients,output_gradients = get_gradients_bias(with_bias(batch_x), batch_y, with_bias(hidden_layer), output, hidden_weights, output_weights, learning_rate)\n",
    "        #update the weights with the gradient (slope) of the loss function and learning rate\n",
    "        hidden_weights = hidden_weights - (hidden_gradients * learning_rate)\n",
    "        output_weights = output_weights - (output_gradients * learning_rate)\n",
    "        \n",
    "        errors.append(error)\n",
    "        start += batch_size\n",
    "        \n",
    "    #Print average error for each epoch\n",
    "    print(np.mean(errors))"
   ]
  },
  {
   "cell_type": "markdown",
   "metadata": {},
   "source": [
    "### Compare against non normalised features \n",
    "\n",
    "Why do think it is much worse?\n",
    "\n",
    "## Equivalent Keras Code"
   ]
  },
  {
   "cell_type": "code",
   "execution_count": null,
   "metadata": {},
   "outputs": [],
   "source": [
    "import keras\n",
    "from keras.models import Sequential\n",
    "from keras.layers import Dense"
   ]
  },
  {
   "cell_type": "code",
   "execution_count": null,
   "metadata": {
    "scrolled": true
   },
   "outputs": [],
   "source": [
    "hidden_size = 10\n",
    "learning_rate = 0.1\n",
    "epochs = 50\n",
    "batch_size = 1\n",
    "model = Sequential()\n",
    "model.add(Dense(hidden_size, activation='sigmoid', input_dim=input_size))\n",
    "model.add(Dense(1, activation='sigmoid'))\n",
    "opt = keras.optimizers.SGD(learning_rate=learning_rate)\n",
    "model.compile(opt, loss='mse',metrics=['accuracy'])\n",
    "model.fit(x, y, epochs=epochs, batch_size = batch_size)"
   ]
  },
  {
   "cell_type": "markdown",
   "metadata": {},
   "source": [
    "### Moving forwards\n",
    "\n",
    "We have seen **Mean Squared Error** loss function used with a **Sigmoid** activation function on both the hidden layer and the output layer, but this is not always the right choice \n",
    "\n",
    "As we move through the unit, we'll see lots of different **loss functions** and **activation functions**, however, the basic principles of optimising a neural network will remain broadly similar. "
   ]
  },
  {
   "cell_type": "markdown",
   "metadata": {},
   "source": [
    "# Lab Tasks\n",
    "\n",
    "### Networks and weights \n",
    "\n",
    "* Given a network with 3 inputs, 1 hidden layer with 6 neurons and 2 outputs, how many parameters are there in the network in total?\n",
    "\n",
    "**(3 + 1 * 6) + (6 + 1 * 2) = 38**\n",
    "\n",
    "* Given a network with 4 inputs, 1 hidden layer with 6 neurons, 1 hidden layer with 3 neurons and 1 output, how many parameters are there in the network in total? \n",
    "\n",
    "**(4 + 1 * 6)  + (6 + 1 * 3) + (3 + 1 * 1)  = 55**\n",
    "\n",
    "* If I have a network with 3 inputs and a hidden layer with 4 neurons. \n",
    "\n",
    "    * What is the size of my ``hidden_weights`` matrix?\n",
    "    \n",
    "**4 x 4**\n",
    "    \n",
    "    * When I use matrix multiplication to combine the following input dataset with the hidden weights matrix, what is the shape of the result? What do these numbers represent?\n",
    "    \n",
    "     ``\n",
    "     inputs = [\n",
    "         [2,3,4],\n",
    "         [0.6,70,0.3],\n",
    "         [6,5,4],\n",
    "         [0.4,5,6],\n",
    "     ]\n",
    "     ``\n",
    "**Output is a maxtrix of 3 x 4 which represents the activations of 3 neurons for each of the 4 examples**\n",
    "\n",
    "### Audio Features\n",
    "\n",
    "\n",
    "* The features we have picked make for quite separable data. Try the following different features and see how it updates the graph of features underneath it. Do they seem like they would be good features? Why not?\n",
    "\n",
    "    * Standard deviation of spectral centroid and spectral flatness\n",
    "    \n",
    "    ```np.std(vals)```\n",
    "    \n",
    "    * Mean first order difference of spectral centroid and spectral flatness\n",
    "     \n",
    "     ```np.mean(np.diff(vals,1))) ```\n",
    "    \n",
    "    \n",
    "* Remove the ``minmax_scaling`` from the dataset and try training the model again, are you able to get the same loss? Why do you think this might be?\n",
    "\n",
    "**Looking at the graphs the two classes are clearly less separable**\n",
    "\n",
    "### Training \n",
    "\n",
    "* Try experimenting with these different parameters of the network. How does it effect the final accuracy, the speed of improvement and the amount improved each time?\n",
    "\n",
    "    * learning rate\n",
    "    \n",
    "    * number of hidden neurons in the hidden layer\n",
    "    \n",
    "    * batch size \n",
    "    \n",
    "    * number of epochs\n",
    "    \n",
    "    \n",
    "* Make an additional array (``all errors``) and use it collect all the errors over time. Plot them in the graph using PyPlot and see how the loss decreases over time given different parameters \n",
    "\n",
    "**See code below, especially try playing with learning rate (e.g 0.1 vs 0.05)**"
   ]
  },
  {
   "cell_type": "code",
   "execution_count": null,
   "metadata": {},
   "outputs": [],
   "source": []
  }
 ],
 "metadata": {
  "kernelspec": {
   "display_name": "Python 3",
   "language": "python",
   "name": "python3"
  },
  "language_info": {
   "codemirror_mode": {
    "name": "ipython",
    "version": 3
   },
   "file_extension": ".py",
   "mimetype": "text/x-python",
   "name": "python",
   "nbconvert_exporter": "python",
   "pygments_lexer": "ipython3",
   "version": "3.8.5"
  }
 },
 "nbformat": 4,
 "nbformat_minor": 4
}
